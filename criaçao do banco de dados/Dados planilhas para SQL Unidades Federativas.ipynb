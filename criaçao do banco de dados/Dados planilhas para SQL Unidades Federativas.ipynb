{
 "cells": [
  {
   "cell_type": "markdown",
   "id": "5142d28f-02c0-48fd-a6d0-14ef02348185",
   "metadata": {},
   "source": [
    "# Lendo todas as planilhas"
   ]
  },
  {
   "cell_type": "code",
   "execution_count": 42,
   "id": "695e7bb8-d1fa-486d-ad43-8289717b15de",
   "metadata": {},
   "outputs": [],
   "source": [
    "import pandas as pd"
   ]
  },
  {
   "cell_type": "code",
   "execution_count": 43,
   "id": "78c1be20-1d01-4a5a-aeb1-2a90966ca6b7",
   "metadata": {},
   "outputs": [],
   "source": [
    "# Nomes planilhas\n",
    "planilha_inse_2011_a_2013 = 'Indicador_INSE_por_Escola_2011_a_2013.xlsx'\n",
    "planilha_inse_2015 = 'INSE_2015.xlsx'\n",
    "planilha_inse_2019 = 'INSE_2019_ESCOLAS.xlsx'\n",
    "planilha_inse_2021 = 'INSE_2021_escolas.xlsx'"
   ]
  },
  {
   "cell_type": "code",
   "execution_count": 44,
   "id": "6f0f1c83-257b-4766-b2c5-8a74fba7b2cd",
   "metadata": {},
   "outputs": [],
   "source": [
    "df_inse_2011_a_2013 = pd.read_excel(planilha_inse_2011_a_2013)\n",
    "df_inse_2015 = pd.read_excel(planilha_inse_2015)\n",
    "df_inse_2019 = pd.read_excel(planilha_inse_2019)\n",
    "df_inse_2021 = pd.read_excel(planilha_inse_2021)"
   ]
  },
  {
   "cell_type": "markdown",
   "id": "cbb89f6a-fcbe-462c-85bc-9bceec9a7874",
   "metadata": {},
   "source": [
    "# 2011 a 2013"
   ]
  },
  {
   "cell_type": "code",
   "execution_count": 45,
   "id": "0a2d4a69-1490-46ce-b164-ff7d09e1b316",
   "metadata": {},
   "outputs": [
    {
     "data": {
      "text/plain": [
       "Index(['COD_ESCOLA', 'NOME_ESCOLA', 'COD_ESTADO', 'NOME_ESTADO',\n",
       "       'COD_MUNICIPIO', 'NOME_MUNICIPIO', 'ID_AREA', 'AREA', 'ID_REDE', 'REDE',\n",
       "       'ID_LOCALIZACAO', 'LOCALIZACAO', 'QTD_ALUNOS_INSE',\n",
       "       'INSE - VALOR ABSOLUTO', 'INSE - CLASSIFICAÇÃO'],\n",
       "      dtype='object')"
      ]
     },
     "execution_count": 45,
     "metadata": {},
     "output_type": "execute_result"
    }
   ],
   "source": [
    "df_inse_2011_a_2013.columns"
   ]
  },
  {
   "cell_type": "code",
   "execution_count": 46,
   "id": "3a9dc205-95eb-4163-90a5-97e047fd50b1",
   "metadata": {},
   "outputs": [],
   "source": [
    "df_uniques_subset_2011_a_2013 = df_inse_2011_a_2013.drop_duplicates(subset=['COD_ESTADO', 'NOME_ESTADO'])"
   ]
  },
  {
   "cell_type": "code",
   "execution_count": 47,
   "id": "c231045e-bb65-49ed-a29b-f29d8c4380af",
   "metadata": {},
   "outputs": [
    {
     "name": "stdout",
     "output_type": "stream",
     "text": [
      "ID: 11, SIGLA: RO, ANO:2011 a 2013\n",
      "ID: 12, SIGLA: AC, ANO:2011 a 2013\n",
      "ID: 13, SIGLA: AM, ANO:2011 a 2013\n",
      "ID: 14, SIGLA: RR, ANO:2011 a 2013\n",
      "ID: 15, SIGLA: PA, ANO:2011 a 2013\n",
      "ID: 16, SIGLA: AP, ANO:2011 a 2013\n",
      "ID: 17, SIGLA: TO, ANO:2011 a 2013\n",
      "ID: 21, SIGLA: MA, ANO:2011 a 2013\n",
      "ID: 22, SIGLA: PI, ANO:2011 a 2013\n",
      "ID: 23, SIGLA: CE, ANO:2011 a 2013\n",
      "ID: 24, SIGLA: RN, ANO:2011 a 2013\n",
      "ID: 25, SIGLA: PB, ANO:2011 a 2013\n",
      "ID: 26, SIGLA: PE, ANO:2011 a 2013\n",
      "ID: 27, SIGLA: AL, ANO:2011 a 2013\n",
      "ID: 28, SIGLA: SE, ANO:2011 a 2013\n",
      "ID: 29, SIGLA: BA, ANO:2011 a 2013\n",
      "ID: 31, SIGLA: MG, ANO:2011 a 2013\n",
      "ID: 32, SIGLA: ES, ANO:2011 a 2013\n",
      "ID: 33, SIGLA: RJ, ANO:2011 a 2013\n",
      "ID: 35, SIGLA: SP, ANO:2011 a 2013\n",
      "ID: 41, SIGLA: PR, ANO:2011 a 2013\n",
      "ID: 42, SIGLA: SC, ANO:2011 a 2013\n",
      "ID: 43, SIGLA: RS, ANO:2011 a 2013\n",
      "ID: 50, SIGLA: MS, ANO:2011 a 2013\n",
      "ID: 51, SIGLA: MT, ANO:2011 a 2013\n",
      "ID: 52, SIGLA: GO, ANO:2011 a 2013\n",
      "ID: 53, SIGLA: DF, ANO:2011 a 2013\n"
     ]
    }
   ],
   "source": [
    "for indice, linha in df_uniques_subset_2011_a_2013.iterrows():\n",
    "    print (f\"ID: {linha['COD_ESTADO']}, SIGLA: {linha['NOME_ESTADO']}, ANO:2011 a 2013\")"
   ]
  },
  {
   "cell_type": "markdown",
   "id": "39d76521-a048-4aeb-a269-a52300921c9c",
   "metadata": {},
   "source": [
    "# 2015"
   ]
  },
  {
   "cell_type": "code",
   "execution_count": 48,
   "id": "9b12002b-0cd2-4165-96a4-35faa1d0dd1a",
   "metadata": {},
   "outputs": [
    {
     "data": {
      "text/plain": [
       "Index(['CO_ESCOLA', 'NOME_ESCOLA', 'CO_UF', 'NOME_UF', 'CO_MUNICIPIO',\n",
       "       'NOME_MUNICIPIO', 'ID_AREA', 'TP_DEPENDENCIA', 'TP_LOCALIZACAO',\n",
       "       'QTD_ALUNOS_INSE', 'INSE_VALOR_ABSOLUTO', 'INSE_CLASSIFICACAO'],\n",
       "      dtype='object')"
      ]
     },
     "execution_count": 48,
     "metadata": {},
     "output_type": "execute_result"
    }
   ],
   "source": [
    "df_inse_2015.columns"
   ]
  },
  {
   "cell_type": "code",
   "execution_count": 49,
   "id": "00b4cefc-d83b-44c3-a1c5-6548eac6a996",
   "metadata": {},
   "outputs": [],
   "source": [
    "df_uniques_subset_2015 = df_inse_2015.drop_duplicates(subset=['CO_UF', 'NOME_UF'])"
   ]
  },
  {
   "cell_type": "code",
   "execution_count": 50,
   "id": "90bd8f75-d243-4520-b600-cb88de7c0cb2",
   "metadata": {},
   "outputs": [
    {
     "name": "stdout",
     "output_type": "stream",
     "text": [
      "ID: 11, NOME: Rondônia, ANO:2015\n",
      "ID: 12, NOME: Acre, ANO:2015\n",
      "ID: 13, NOME: Amazonas, ANO:2015\n",
      "ID: 14, NOME: Roraima, ANO:2015\n",
      "ID: 15, NOME: Pará, ANO:2015\n",
      "ID: 16, NOME: Amapá, ANO:2015\n",
      "ID: 17, NOME: Tocantins, ANO:2015\n",
      "ID: 21, NOME: Maranhão, ANO:2015\n",
      "ID: 22, NOME: Piauí, ANO:2015\n",
      "ID: 23, NOME: Ceará, ANO:2015\n",
      "ID: 24, NOME: Rio Grande do Norte, ANO:2015\n",
      "ID: 25, NOME: Paraíba, ANO:2015\n",
      "ID: 26, NOME: Pernambuco, ANO:2015\n",
      "ID: 27, NOME: Alagoas, ANO:2015\n",
      "ID: 28, NOME: Sergipe, ANO:2015\n",
      "ID: 29, NOME: Bahia, ANO:2015\n",
      "ID: 31, NOME: Minas Gerais, ANO:2015\n",
      "ID: 32, NOME: Espírito Santo, ANO:2015\n",
      "ID: 33, NOME: Rio de Janeiro, ANO:2015\n",
      "ID: 35, NOME: São Paulo, ANO:2015\n",
      "ID: 41, NOME: Paraná, ANO:2015\n",
      "ID: 42, NOME: Santa Catarina, ANO:2015\n",
      "ID: 43, NOME: Rio Grande do Sul, ANO:2015\n",
      "ID: 50, NOME: Mato Grosso do Sul, ANO:2015\n",
      "ID: 51, NOME: Mato Grosso, ANO:2015\n",
      "ID: 52, NOME: Goiás, ANO:2015\n",
      "ID: 53, NOME: Distrito Federal, ANO:2015\n"
     ]
    }
   ],
   "source": [
    "for indice, linha in df_uniques_subset_2015.iterrows():\n",
    "    print (f\"ID: {linha['CO_UF']}, NOME: {linha['NOME_UF']}, ANO:2015\")"
   ]
  },
  {
   "cell_type": "markdown",
   "id": "06ef8951-432b-4fea-9851-df2ea801155e",
   "metadata": {},
   "source": [
    "# 2019"
   ]
  },
  {
   "cell_type": "code",
   "execution_count": 51,
   "id": "ef00e4b1-f166-4281-b56a-235058189c45",
   "metadata": {},
   "outputs": [
    {
     "data": {
      "text/plain": [
       "Index(['CO_ESCOLA', 'NOME_ESCOLA', 'CO_UF', 'NOME_UF', 'CO_MUNICIPIO',\n",
       "       'NOME_MUNICIPIO', 'ID_AREA', 'TP_DEPENDENCIA', 'TP_LOCALIZACAO',\n",
       "       'QTD_ALUNOS_INSE', 'INSE_VALOR_ABSOLUTO', 'INSE_CLASSIFICACAO',\n",
       "       'PC_NIVEL_1', 'PC_NIVEL_2', 'PC_NIVEL_3', 'PC_NIVEL_4', 'PC_NIVEL_5',\n",
       "       'PC_NIVEL_6', 'PC_NIVEL_7', 'PC_NIVEL_8'],\n",
       "      dtype='object')"
      ]
     },
     "execution_count": 51,
     "metadata": {},
     "output_type": "execute_result"
    }
   ],
   "source": [
    "df_inse_2019.columns"
   ]
  },
  {
   "cell_type": "code",
   "execution_count": 52,
   "id": "8dbff909-ff3e-43f0-9831-a87a6838536e",
   "metadata": {},
   "outputs": [],
   "source": [
    "df_uniques_subset_2019 = df_inse_2019.drop_duplicates(subset=['CO_UF', 'NOME_UF'])"
   ]
  },
  {
   "cell_type": "code",
   "execution_count": 53,
   "id": "f9c79dfd-0e52-4937-8dfa-d13e15e5250d",
   "metadata": {},
   "outputs": [
    {
     "name": "stdout",
     "output_type": "stream",
     "text": [
      "ID: 11, NOME: Rondônia, ANO:2019\n",
      "ID: 12, NOME: Acre, ANO:2019\n",
      "ID: 13, NOME: Amazonas, ANO:2019\n",
      "ID: 14, NOME: Roraima, ANO:2019\n",
      "ID: 15, NOME: Pará, ANO:2019\n",
      "ID: 16, NOME: Amapá, ANO:2019\n",
      "ID: 17, NOME: Tocantins, ANO:2019\n",
      "ID: 21, NOME: Maranhão, ANO:2019\n",
      "ID: 22, NOME: Piauí, ANO:2019\n",
      "ID: 23, NOME: Ceará, ANO:2019\n",
      "ID: 24, NOME: Rio Grande do Norte, ANO:2019\n",
      "ID: 25, NOME: Paraíba, ANO:2019\n",
      "ID: 26, NOME: Pernambuco, ANO:2019\n",
      "ID: 27, NOME: Alagoas, ANO:2019\n",
      "ID: 28, NOME: Sergipe, ANO:2019\n",
      "ID: 29, NOME: Bahia, ANO:2019\n",
      "ID: 31, NOME: Minas Gerais, ANO:2019\n",
      "ID: 32, NOME: Espírito Santo, ANO:2019\n",
      "ID: 33, NOME: Rio de Janeiro, ANO:2019\n",
      "ID: 35, NOME: São Paulo, ANO:2019\n",
      "ID: 41, NOME: Paraná, ANO:2019\n",
      "ID: 42, NOME: Santa Catarina, ANO:2019\n",
      "ID: 43, NOME: Rio Grande do Sul, ANO:2019\n",
      "ID: 50, NOME: Mato Grosso do Sul, ANO:2019\n",
      "ID: 51, NOME: Mato Grosso, ANO:2019\n",
      "ID: 52, NOME: Goiás, ANO:2019\n",
      "ID: 53, NOME: Distrito Federal, ANO:2019\n"
     ]
    }
   ],
   "source": [
    "for indice, linha in df_uniques_subset_2019.iterrows():\n",
    "    print (f\"ID: {linha['CO_UF']}, NOME: {linha['NOME_UF']}, ANO:2019\")"
   ]
  },
  {
   "cell_type": "markdown",
   "id": "32ead089-5ed2-439a-8dd2-50d459f96691",
   "metadata": {},
   "source": [
    "# 2021"
   ]
  },
  {
   "cell_type": "code",
   "execution_count": 54,
   "id": "6e390098-1561-4ac4-bc58-99b41beded90",
   "metadata": {},
   "outputs": [
    {
     "data": {
      "text/plain": [
       "Index(['NU_ANO_SAEB', 'CO_UF', 'SG_UF', 'NO_UF', 'CO_MUNICIPIO',\n",
       "       'NO_MUNICIPIO', 'ID_ESCOLA', 'NO_ESCOLA', 'TP_TIPO_REDE',\n",
       "       'TP_LOCALIZACAO', 'TP_CAPITAL', 'QTD_ALUNOS_INSE', 'MEDIA_INSE',\n",
       "       'INSE_CLASSIFICACAO', 'PC_NIVEL_1', 'PC_NIVEL_2', 'PC_NIVEL_3',\n",
       "       'PC_NIVEL_4', 'PC_NIVEL_5', 'PC_NIVEL_6', 'PC_NIVEL_7', 'PC_NIVEL_8'],\n",
       "      dtype='object')"
      ]
     },
     "execution_count": 54,
     "metadata": {},
     "output_type": "execute_result"
    }
   ],
   "source": [
    "df_inse_2021.columns"
   ]
  },
  {
   "cell_type": "code",
   "execution_count": 55,
   "id": "d507f2c9-948c-4f0d-b3bc-cc90ef7f3189",
   "metadata": {},
   "outputs": [],
   "source": [
    "df_uniques_subset_2021 = df_inse_2021.drop_duplicates(subset=['CO_UF', 'NO_UF'])"
   ]
  },
  {
   "cell_type": "code",
   "execution_count": 56,
   "id": "008b0fbc-7e09-413c-bcd3-eddf8ed0ec3d",
   "metadata": {},
   "outputs": [
    {
     "name": "stdout",
     "output_type": "stream",
     "text": [
      "ID: 11, NOME: Rondônia, ANO:2021\n",
      "ID: 12, NOME: Acre, ANO:2021\n",
      "ID: 13, NOME: Amazonas, ANO:2021\n",
      "ID: 14, NOME: Roraima, ANO:2021\n",
      "ID: 15, NOME: Pará, ANO:2021\n",
      "ID: 16, NOME: Amapá, ANO:2021\n",
      "ID: 17, NOME: Tocantins, ANO:2021\n",
      "ID: 21, NOME: Maranhão, ANO:2021\n",
      "ID: 22, NOME: Piauí, ANO:2021\n",
      "ID: 23, NOME: Ceará, ANO:2021\n",
      "ID: 24, NOME: Rio Grande do Norte, ANO:2021\n",
      "ID: 25, NOME: Paraíba, ANO:2021\n",
      "ID: 26, NOME: Pernambuco, ANO:2021\n",
      "ID: 27, NOME: Alagoas, ANO:2021\n",
      "ID: 28, NOME: Sergipe, ANO:2021\n",
      "ID: 29, NOME: Bahia, ANO:2021\n",
      "ID: 31, NOME: Minas Gerais, ANO:2021\n",
      "ID: 32, NOME: Espírito Santo, ANO:2021\n",
      "ID: 33, NOME: Rio de Janeiro, ANO:2021\n",
      "ID: 35, NOME: São Paulo, ANO:2021\n",
      "ID: 41, NOME: Paraná, ANO:2021\n",
      "ID: 42, NOME: Santa Catarina, ANO:2021\n",
      "ID: 43, NOME: Rio Grande do Sul, ANO:2021\n",
      "ID: 50, NOME: Mato Grosso do Sul, ANO:2021\n",
      "ID: 51, NOME: Mato Grosso, ANO:2021\n",
      "ID: 52, NOME: Goiás, ANO:2021\n",
      "ID: 53, NOME: Distrito Federal, ANO:2021\n"
     ]
    }
   ],
   "source": [
    "for indice, linha in df_uniques_subset_2021.iterrows():\n",
    "    print (f\"ID: {linha['CO_UF']}, NOME: {linha['NO_UF']}, ANO:2021\")"
   ]
  },
  {
   "cell_type": "markdown",
   "id": "e4b96103-ff39-4b7d-a17f-6c732e4f4b37",
   "metadata": {},
   "source": [
    "# Encontrando IDs definitivos dos estados, baseado em comparação"
   ]
  },
  {
   "cell_type": "code",
   "execution_count": null,
   "id": "5c8911c6-a3f8-4578-a2ae-382ac9bcd67c",
   "metadata": {},
   "outputs": [],
   "source": [
    "# Transformando as colunas de CÓDIGO DE UF como index para facilitar recuperar os NOMES de UF\n",
    "df_uniques_subset_2015.set_index('CO_UF', inplace=True)\n",
    "df_uniques_subset_2019.set_index('CO_UF', inplace=True)\n",
    "df_uniques_subset_2021.set_index('CO_UF', inplace=True)"
   ]
  },
  {
   "cell_type": "code",
   "execution_count": 63,
   "id": "d00cb18d-dfb6-4dff-960c-a62a9222d637",
   "metadata": {},
   "outputs": [
    {
     "name": "stdout",
     "output_type": "stream",
     "text": [
      "ID: 11, NOMES:RO, Rondônia, Rondônia, Rondônia\n",
      "ID: 12, NOMES:AC, Acre, Acre, Acre\n",
      "ID: 13, NOMES:AM, Amazonas, Amazonas, Amazonas\n",
      "ID: 14, NOMES:RR, Roraima, Roraima, Roraima\n",
      "ID: 15, NOMES:PA, Pará, Pará, Pará\n",
      "ID: 16, NOMES:AP, Amapá, Amapá, Amapá\n",
      "ID: 17, NOMES:TO, Tocantins, Tocantins, Tocantins\n",
      "ID: 21, NOMES:MA, Maranhão, Maranhão, Maranhão\n",
      "ID: 22, NOMES:PI, Piauí, Piauí, Piauí\n",
      "ID: 23, NOMES:CE, Ceará, Ceará, Ceará\n",
      "ID: 24, NOMES:RN, Rio Grande do Norte, Rio Grande do Norte, Rio Grande do Norte\n",
      "ID: 25, NOMES:PB, Paraíba, Paraíba, Paraíba\n",
      "ID: 26, NOMES:PE, Pernambuco, Pernambuco, Pernambuco\n",
      "ID: 27, NOMES:AL, Alagoas, Alagoas, Alagoas\n",
      "ID: 28, NOMES:SE, Sergipe, Sergipe, Sergipe\n",
      "ID: 29, NOMES:BA, Bahia, Bahia, Bahia\n",
      "ID: 31, NOMES:MG, Minas Gerais, Minas Gerais, Minas Gerais\n",
      "ID: 32, NOMES:ES, Espírito Santo, Espírito Santo, Espírito Santo\n",
      "ID: 33, NOMES:RJ, Rio de Janeiro, Rio de Janeiro, Rio de Janeiro\n",
      "ID: 35, NOMES:SP, São Paulo, São Paulo, São Paulo\n",
      "ID: 41, NOMES:PR, Paraná, Paraná, Paraná\n",
      "ID: 42, NOMES:SC, Santa Catarina, Santa Catarina, Santa Catarina\n",
      "ID: 43, NOMES:RS, Rio Grande do Sul, Rio Grande do Sul, Rio Grande do Sul\n",
      "ID: 50, NOMES:MS, Mato Grosso do Sul, Mato Grosso do Sul, Mato Grosso do Sul\n",
      "ID: 51, NOMES:MT, Mato Grosso, Mato Grosso, Mato Grosso\n",
      "ID: 52, NOMES:GO, Goiás, Goiás, Goiás\n",
      "ID: 53, NOMES:DF, Distrito Federal, Distrito Federal, Distrito Federal\n"
     ]
    }
   ],
   "source": [
    "# Iniciar percorrendo os IDS do dataframe de 2011 a 2013 para comparar com as informações dos outros\n",
    "\n",
    "for indice, linha in df_uniques_subset_2011_a_2013.iterrows():\n",
    "    nome_estado_2015 = df_uniques_subset_2015.loc[linha['COD_ESTADO']]['NOME_UF']\n",
    "    nome_estado_2019 = df_uniques_subset_2019.loc[linha['COD_ESTADO']]['NOME_UF']\n",
    "    nome_estado_2021 = df_uniques_subset_2021.loc[linha['COD_ESTADO']]['NO_UF']\n",
    "    print(f\"ID: {linha['COD_ESTADO']}, NOMES:{linha['NOME_ESTADO']}, {nome_estado_2015}, {nome_estado_2019}, {nome_estado_2021}\")"
   ]
  },
  {
   "cell_type": "markdown",
   "id": "9da0b97e-4d7f-4d59-ae5f-3f8ed324605b",
   "metadata": {},
   "source": [
    "### Conforme observado na célula superior, os códigos permanecem os mesmos em todos os anos, nos permitindo então criar o seguinte script"
   ]
  },
  {
   "cell_type": "code",
   "execution_count": 70,
   "id": "66287440-2561-4519-9404-e66414e4b492",
   "metadata": {},
   "outputs": [
    {
     "name": "stdout",
     "output_type": "stream",
     "text": [
      "INSERT INTO saeb.tb_unidade_federativa(id_unidade_federativa, sg_unidade_federativa, no_unidade_federativa) VALUES \n",
      "(11, 'RO', 'Rondônia'),\n",
      "(12, 'AC', 'Acre'),\n",
      "(13, 'AM', 'Amazonas'),\n",
      "(14, 'RR', 'Roraima'),\n",
      "(15, 'PA', 'Pará'),\n",
      "(16, 'AP', 'Amapá'),\n",
      "(17, 'TO', 'Tocantins'),\n",
      "(21, 'MA', 'Maranhão'),\n",
      "(22, 'PI', 'Piauí'),\n",
      "(23, 'CE', 'Ceará'),\n",
      "(24, 'RN', 'Rio Grande do Norte'),\n",
      "(25, 'PB', 'Paraíba'),\n",
      "(26, 'PE', 'Pernambuco'),\n",
      "(27, 'AL', 'Alagoas'),\n",
      "(28, 'SE', 'Sergipe'),\n",
      "(29, 'BA', 'Bahia'),\n",
      "(31, 'MG', 'Minas Gerais'),\n",
      "(32, 'ES', 'Espírito Santo'),\n",
      "(33, 'RJ', 'Rio de Janeiro'),\n",
      "(35, 'SP', 'São Paulo'),\n",
      "(41, 'PR', 'Paraná'),\n",
      "(42, 'SC', 'Santa Catarina'),\n",
      "(43, 'RS', 'Rio Grande do Sul'),\n",
      "(50, 'MS', 'Mato Grosso do Sul'),\n",
      "(51, 'MT', 'Mato Grosso'),\n",
      "(52, 'GO', 'Goiás'),\n",
      "(53, 'DF', 'Distrito Federal'),\n",
      ";\n"
     ]
    }
   ],
   "source": [
    "print('INSERT INTO saeb.tb_unidade_federativa(id_unidade_federativa, sg_unidade_federativa, no_unidade_federativa) VALUES ')\n",
    "\n",
    "for indice, linha in df_uniques_subset_2011_a_2013.iterrows():\n",
    "    \n",
    "    nome_estado_2021 = df_uniques_subset_2021.loc[linha['COD_ESTADO']]['NO_UF']\n",
    "    print(f\"({linha['COD_ESTADO']}, '{linha['NOME_ESTADO']}', '{nome_estado_2021}'),\")\n",
    "\n",
    "print(';')"
   ]
  },
  {
   "cell_type": "code",
   "execution_count": 71,
   "id": "c6a18066-65ff-4f69-be3e-ca195c79f4f1",
   "metadata": {},
   "outputs": [],
   "source": [
    "sql_script = \"\"\"\n",
    "INSERT INTO saeb.tb_unidade_federativa(id_unidade_federativa, sg_unidade_federativa, no_unidade_federativa) VALUES \n",
    "(11, 'RO', 'Rondônia'),\n",
    "(12, 'AC', 'Acre'),\n",
    "(13, 'AM', 'Amazonas'),\n",
    "(14, 'RR', 'Roraima'),\n",
    "(15, 'PA', 'Pará'),\n",
    "(16, 'AP', 'Amapá'),\n",
    "(17, 'TO', 'Tocantins'),\n",
    "(21, 'MA', 'Maranhão'),\n",
    "(22, 'PI', 'Piauí'),\n",
    "(23, 'CE', 'Ceará'),\n",
    "(24, 'RN', 'Rio Grande do Norte'),\n",
    "(25, 'PB', 'Paraíba'),\n",
    "(26, 'PE', 'Pernambuco'),\n",
    "(27, 'AL', 'Alagoas'),\n",
    "(28, 'SE', 'Sergipe'),\n",
    "(29, 'BA', 'Bahia'),\n",
    "(31, 'MG', 'Minas Gerais'),\n",
    "(32, 'ES', 'Espírito Santo'),\n",
    "(33, 'RJ', 'Rio de Janeiro'),\n",
    "(35, 'SP', 'São Paulo'),\n",
    "(41, 'PR', 'Paraná'),\n",
    "(42, 'SC', 'Santa Catarina'),\n",
    "(43, 'RS', 'Rio Grande do Sul'),\n",
    "(50, 'MS', 'Mato Grosso do Sul'),\n",
    "(51, 'MT', 'Mato Grosso'),\n",
    "(52, 'GO', 'Goiás'),\n",
    "(53, 'DF', 'Distrito Federal')\n",
    ";\n",
    "\"\"\";"
   ]
  },
  {
   "cell_type": "code",
   "execution_count": 72,
   "id": "a4e6b548-e219-4f72-9528-580c02c32ab1",
   "metadata": {},
   "outputs": [],
   "source": [
    "caminho_arquivo_sql = 'script_insert_unidades_federativas.sql'\n",
    "\n",
    "# Escrevendo os dados no arquivo\n",
    "with open(caminho_arquivo_sql, 'w') as arquivo:\n",
    "    arquivo.write(sql_script)"
   ]
  },
  {
   "cell_type": "code",
   "execution_count": null,
   "id": "40e42296-ffa5-47f5-8dbb-1e06b00c158c",
   "metadata": {},
   "outputs": [],
   "source": []
  }
 ],
 "metadata": {
  "kernelspec": {
   "display_name": "Python 3 (ipykernel)",
   "language": "python",
   "name": "python3"
  },
  "language_info": {
   "codemirror_mode": {
    "name": "ipython",
    "version": 3
   },
   "file_extension": ".py",
   "mimetype": "text/x-python",
   "name": "python",
   "nbconvert_exporter": "python",
   "pygments_lexer": "ipython3",
   "version": "3.11.5"
  }
 },
 "nbformat": 4,
 "nbformat_minor": 5
}
