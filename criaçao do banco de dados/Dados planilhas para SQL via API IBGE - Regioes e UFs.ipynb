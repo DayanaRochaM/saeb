{
 "cells": [
  {
   "cell_type": "code",
   "execution_count": 45,
   "id": "695e7bb8-d1fa-486d-ad43-8289717b15de",
   "metadata": {},
   "outputs": [],
   "source": [
    "import requests"
   ]
  },
  {
   "cell_type": "code",
   "execution_count": 55,
   "id": "78c1be20-1d01-4a5a-aeb1-2a90966ca6b7",
   "metadata": {},
   "outputs": [],
   "source": [
    "# Nomes planilhas\n",
    "url_regioes = 'https://servicodados.ibge.gov.br/api/v1/localidades/regioes?orderBy=nome'\n",
    "url_UFs = 'https://servicodados.ibge.gov.br/api/v1/localidades/estados?orderBy=nome' "
   ]
  },
  {
   "cell_type": "markdown",
   "id": "ebbba3d2-5f86-4f09-8ecf-e1af176ef245",
   "metadata": {},
   "source": [
    "## Criando insert REGIÕES"
   ]
  },
  {
   "cell_type": "code",
   "execution_count": 47,
   "id": "6f0f1c83-257b-4766-b2c5-8a74fba7b2cd",
   "metadata": {},
   "outputs": [],
   "source": [
    "# Fazendo a requisição GET\n",
    "response_regioes = requests.get(url_regioes)\n",
    "if response_regioes.status_code == 200:\n",
    "    # Imprimindo o conteúdo da resposta\n",
    "    regioes = response_regioes.json()\n",
    "else:\n",
    "    # Imprimindo o código de status em caso de falha\n",
    "    print(f\"A requisição falhou com o código de status: {response_regioes.status_code}\")"
   ]
  },
  {
   "cell_type": "code",
   "execution_count": 48,
   "id": "29138c12-258b-43b5-8129-168f188d01b5",
   "metadata": {},
   "outputs": [
    {
     "data": {
      "text/plain": [
       "[{'id': 5, 'sigla': 'CO', 'nome': 'Centro-Oeste'},\n",
       " {'id': 2, 'sigla': 'NE', 'nome': 'Nordeste'},\n",
       " {'id': 1, 'sigla': 'N', 'nome': 'Norte'},\n",
       " {'id': 3, 'sigla': 'SE', 'nome': 'Sudeste'},\n",
       " {'id': 4, 'sigla': 'S', 'nome': 'Sul'}]"
      ]
     },
     "execution_count": 48,
     "metadata": {},
     "output_type": "execute_result"
    }
   ],
   "source": [
    "regioes"
   ]
  },
  {
   "cell_type": "code",
   "execution_count": 49,
   "id": "cf9aaa86-fbd5-46ed-84db-f72c73777e2f",
   "metadata": {},
   "outputs": [],
   "source": [
    "# MONTANDO SCRIPT\n",
    "inicio_script_regiao = 'INSERT INTO saeb.tb_regiao(id_regiao, sg_regiao, no_regiao) VALUES '\n",
    "\n",
    "values = ''\n",
    "for regiao in regioes:\n",
    "    values += f\"({regiao['id']}, '{regiao['sigla']}', '{regiao['nome']}'),\"\n",
    "values = values[:-1] #Retirando vírgula da última linha\n",
    "\n",
    "# Montando script completo e definindo arquivo de saída\n",
    "sql_script = inicio_script_regiao + values + ';'\n",
    "caminho_arquivo_sql = 'SCRIPTS/script_insert_regioes.sql'\n",
    "\n",
    "# Escrevendo os dados no arquivo\n",
    "with open(caminho_arquivo_sql, 'w') as arquivo:\n",
    "    arquivo.write(sql_script)"
   ]
  },
  {
   "cell_type": "markdown",
   "id": "cbb89f6a-fcbe-462c-85bc-9bceec9a7874",
   "metadata": {},
   "source": [
    "## Criando insert UFs"
   ]
  },
  {
   "cell_type": "code",
   "execution_count": 50,
   "id": "a4e6b548-e219-4f72-9528-580c02c32ab1",
   "metadata": {},
   "outputs": [],
   "source": [
    "# Fazendo a requisição GET\n",
    "response_UFs = requests.get(url_UFs)\n",
    "if response_UFs.status_code == 200:\n",
    "    # Imprimindo o conteúdo da resposta\n",
    "    ufs = response_UFs.json()\n",
    "else:\n",
    "    # Imprimindo o código de status em caso de falha\n",
    "    print(f\"A requisição falhou com o código de status: {response_UFs.status_code}\")"
   ]
  },
  {
   "cell_type": "code",
   "execution_count": 51,
   "id": "40e42296-ffa5-47f5-8dbb-1e06b00c158c",
   "metadata": {},
   "outputs": [
    {
     "data": {
      "text/plain": [
       "[{'id': 12,\n",
       "  'sigla': 'AC',\n",
       "  'nome': 'Acre',\n",
       "  'regiao': {'id': 1, 'sigla': 'N', 'nome': 'Norte'}},\n",
       " {'id': 27,\n",
       "  'sigla': 'AL',\n",
       "  'nome': 'Alagoas',\n",
       "  'regiao': {'id': 2, 'sigla': 'NE', 'nome': 'Nordeste'}},\n",
       " {'id': 16,\n",
       "  'sigla': 'AP',\n",
       "  'nome': 'Amapá',\n",
       "  'regiao': {'id': 1, 'sigla': 'N', 'nome': 'Norte'}},\n",
       " {'id': 13,\n",
       "  'sigla': 'AM',\n",
       "  'nome': 'Amazonas',\n",
       "  'regiao': {'id': 1, 'sigla': 'N', 'nome': 'Norte'}},\n",
       " {'id': 29,\n",
       "  'sigla': 'BA',\n",
       "  'nome': 'Bahia',\n",
       "  'regiao': {'id': 2, 'sigla': 'NE', 'nome': 'Nordeste'}},\n",
       " {'id': 23,\n",
       "  'sigla': 'CE',\n",
       "  'nome': 'Ceará',\n",
       "  'regiao': {'id': 2, 'sigla': 'NE', 'nome': 'Nordeste'}},\n",
       " {'id': 53,\n",
       "  'sigla': 'DF',\n",
       "  'nome': 'Distrito Federal',\n",
       "  'regiao': {'id': 5, 'sigla': 'CO', 'nome': 'Centro-Oeste'}},\n",
       " {'id': 32,\n",
       "  'sigla': 'ES',\n",
       "  'nome': 'Espírito Santo',\n",
       "  'regiao': {'id': 3, 'sigla': 'SE', 'nome': 'Sudeste'}},\n",
       " {'id': 52,\n",
       "  'sigla': 'GO',\n",
       "  'nome': 'Goiás',\n",
       "  'regiao': {'id': 5, 'sigla': 'CO', 'nome': 'Centro-Oeste'}},\n",
       " {'id': 21,\n",
       "  'sigla': 'MA',\n",
       "  'nome': 'Maranhão',\n",
       "  'regiao': {'id': 2, 'sigla': 'NE', 'nome': 'Nordeste'}},\n",
       " {'id': 51,\n",
       "  'sigla': 'MT',\n",
       "  'nome': 'Mato Grosso',\n",
       "  'regiao': {'id': 5, 'sigla': 'CO', 'nome': 'Centro-Oeste'}},\n",
       " {'id': 50,\n",
       "  'sigla': 'MS',\n",
       "  'nome': 'Mato Grosso do Sul',\n",
       "  'regiao': {'id': 5, 'sigla': 'CO', 'nome': 'Centro-Oeste'}},\n",
       " {'id': 31,\n",
       "  'sigla': 'MG',\n",
       "  'nome': 'Minas Gerais',\n",
       "  'regiao': {'id': 3, 'sigla': 'SE', 'nome': 'Sudeste'}},\n",
       " {'id': 15,\n",
       "  'sigla': 'PA',\n",
       "  'nome': 'Pará',\n",
       "  'regiao': {'id': 1, 'sigla': 'N', 'nome': 'Norte'}},\n",
       " {'id': 25,\n",
       "  'sigla': 'PB',\n",
       "  'nome': 'Paraíba',\n",
       "  'regiao': {'id': 2, 'sigla': 'NE', 'nome': 'Nordeste'}},\n",
       " {'id': 41,\n",
       "  'sigla': 'PR',\n",
       "  'nome': 'Paraná',\n",
       "  'regiao': {'id': 4, 'sigla': 'S', 'nome': 'Sul'}},\n",
       " {'id': 26,\n",
       "  'sigla': 'PE',\n",
       "  'nome': 'Pernambuco',\n",
       "  'regiao': {'id': 2, 'sigla': 'NE', 'nome': 'Nordeste'}},\n",
       " {'id': 22,\n",
       "  'sigla': 'PI',\n",
       "  'nome': 'Piauí',\n",
       "  'regiao': {'id': 2, 'sigla': 'NE', 'nome': 'Nordeste'}},\n",
       " {'id': 33,\n",
       "  'sigla': 'RJ',\n",
       "  'nome': 'Rio de Janeiro',\n",
       "  'regiao': {'id': 3, 'sigla': 'SE', 'nome': 'Sudeste'}},\n",
       " {'id': 24,\n",
       "  'sigla': 'RN',\n",
       "  'nome': 'Rio Grande do Norte',\n",
       "  'regiao': {'id': 2, 'sigla': 'NE', 'nome': 'Nordeste'}},\n",
       " {'id': 43,\n",
       "  'sigla': 'RS',\n",
       "  'nome': 'Rio Grande do Sul',\n",
       "  'regiao': {'id': 4, 'sigla': 'S', 'nome': 'Sul'}},\n",
       " {'id': 11,\n",
       "  'sigla': 'RO',\n",
       "  'nome': 'Rondônia',\n",
       "  'regiao': {'id': 1, 'sigla': 'N', 'nome': 'Norte'}},\n",
       " {'id': 14,\n",
       "  'sigla': 'RR',\n",
       "  'nome': 'Roraima',\n",
       "  'regiao': {'id': 1, 'sigla': 'N', 'nome': 'Norte'}},\n",
       " {'id': 42,\n",
       "  'sigla': 'SC',\n",
       "  'nome': 'Santa Catarina',\n",
       "  'regiao': {'id': 4, 'sigla': 'S', 'nome': 'Sul'}},\n",
       " {'id': 35,\n",
       "  'sigla': 'SP',\n",
       "  'nome': 'São Paulo',\n",
       "  'regiao': {'id': 3, 'sigla': 'SE', 'nome': 'Sudeste'}},\n",
       " {'id': 28,\n",
       "  'sigla': 'SE',\n",
       "  'nome': 'Sergipe',\n",
       "  'regiao': {'id': 2, 'sigla': 'NE', 'nome': 'Nordeste'}},\n",
       " {'id': 17,\n",
       "  'sigla': 'TO',\n",
       "  'nome': 'Tocantins',\n",
       "  'regiao': {'id': 1, 'sigla': 'N', 'nome': 'Norte'}}]"
      ]
     },
     "execution_count": 51,
     "metadata": {},
     "output_type": "execute_result"
    }
   ],
   "source": [
    "ufs"
   ]
  },
  {
   "cell_type": "code",
   "execution_count": 52,
   "id": "f75f7b84-6e11-4ba5-a5db-b23f7077db8b",
   "metadata": {},
   "outputs": [],
   "source": [
    "# MONTANDO SCRIPT\n",
    "inicio_script_ufs = 'INSERT INTO saeb.tb_unidade_federativa(id_unidade_federativa, sg_unidade_federativa, no_unidade_federativa, fk_id_regiao) VALUES '\n",
    "\n",
    "values = ''\n",
    "for uf in ufs:\n",
    "    values += f\"({uf['id']}, '{uf['sigla']}', '{uf['nome']}', {uf['regiao']['id']}),\"\n",
    "values = values[:-1] #Retirando vírgula da última linha\n",
    "\n",
    "# Montando script completo e definindo arquivo de saída\n",
    "sql_script = inicio_script_ufs + values + ';'\n",
    "caminho_arquivo_sql = 'SCRIPTS/script_insert_ufs.sql'\n",
    "\n",
    "# Escrevendo os dados no arquivo\n",
    "with open(caminho_arquivo_sql, 'w') as arquivo:\n",
    "    arquivo.write(sql_script)"
   ]
  }
 ],
 "metadata": {
  "kernelspec": {
   "display_name": "Python 3 (ipykernel)",
   "language": "python",
   "name": "python3"
  },
  "language_info": {
   "codemirror_mode": {
    "name": "ipython",
    "version": 3
   },
   "file_extension": ".py",
   "mimetype": "text/x-python",
   "name": "python",
   "nbconvert_exporter": "python",
   "pygments_lexer": "ipython3",
   "version": "3.11.5"
  }
 },
 "nbformat": 4,
 "nbformat_minor": 5
}
